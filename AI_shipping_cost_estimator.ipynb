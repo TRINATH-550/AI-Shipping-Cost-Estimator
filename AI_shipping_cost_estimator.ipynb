{
  "cells": [
    {
      "cell_type": "code",
      "execution_count": null,
      "metadata": {
        "id": "2cbQPkSW3lRk"
      },
      "outputs": [],
      "source": [
        "!pip install flask flask-cors pyngrok\n"
      ]
    },
    {
      "cell_type": "code",
      "execution_count": null,
      "metadata": {
        "id": "0dTrr5Kh3ri6"
      },
      "outputs": [],
      "source": [
        "!ngrok authtoken 2tiWzGeCX09xOaf1EmVEAHbGxSx_vQbm3XsFcFLNHKo4eN1h"
      ]
    },
    {
      "cell_type": "code",
      "execution_count": null,
      "metadata": {
        "colab": {
          "background_save": true,
          "base_uri": "https://localhost:8080/"
        },
        "id": "F6YS5bES6I-w",
        "outputId": "2ac25c01-a88a-44ee-8f9e-5f981269ff8c"
      },
      "outputs": [
        {
          "metadata": {
            "tags": null
          },
          "name": "stdout",
          "output_type": "stream",
          "text": [
            "Public URL: https://f7cb-34-82-71-132.ngrok-free.app\n",
            " * Serving Flask app '__main__'\n",
            " * Debug mode: off\n"
          ]
        },
        {
          "metadata": {
            "tags": null
          },
          "name": "stderr",
          "output_type": "stream",
          "text": [
            "INFO:werkzeug:\u001b[31m\u001b[1mWARNING: This is a development server. Do not use it in a production deployment. Use a production WSGI server instead.\u001b[0m\n",
            " * Running on http://127.0.0.1:5000\n",
            "INFO:werkzeug:\u001b[33mPress CTRL+C to quit\u001b[0m\n",
            "INFO:werkzeug:127.0.0.1 - - [01/Mar/2025 16:26:44] \"OPTIONS /estimate HTTP/1.1\" 200 -\n",
            "INFO:werkzeug:127.0.0.1 - - [01/Mar/2025 16:26:44] \"POST /estimate HTTP/1.1\" 200 -\n",
            "INFO:werkzeug:127.0.0.1 - - [01/Mar/2025 16:27:03] \"OPTIONS /estimate HTTP/1.1\" 200 -\n",
            "INFO:werkzeug:127.0.0.1 - - [01/Mar/2025 16:27:04] \"POST /estimate HTTP/1.1\" 200 -\n",
            "INFO:werkzeug:127.0.0.1 - - [01/Mar/2025 16:27:19] \"OPTIONS /estimate HTTP/1.1\" 200 -\n",
            "INFO:werkzeug:127.0.0.1 - - [01/Mar/2025 16:27:20] \"POST /estimate HTTP/1.1\" 200 -\n",
            "INFO:werkzeug:127.0.0.1 - - [01/Mar/2025 16:27:22] \"POST /estimate HTTP/1.1\" 200 -\n",
            "INFO:werkzeug:127.0.0.1 - - [01/Mar/2025 16:27:22] \"POST /estimate HTTP/1.1\" 200 -\n",
            "INFO:werkzeug:127.0.0.1 - - [01/Mar/2025 16:27:22] \"POST /estimate HTTP/1.1\" 200 -\n",
            "INFO:werkzeug:127.0.0.1 - - [01/Mar/2025 16:27:23] \"POST /estimate HTTP/1.1\" 200 -\n",
            "INFO:werkzeug:127.0.0.1 - - [01/Mar/2025 16:27:27] \"OPTIONS /estimate HTTP/1.1\" 200 -\n",
            "INFO:werkzeug:127.0.0.1 - - [01/Mar/2025 16:27:27] \"POST /estimate HTTP/1.1\" 200 -\n",
            "INFO:werkzeug:127.0.0.1 - - [01/Mar/2025 16:27:28] \"POST /estimate HTTP/1.1\" 200 -\n",
            "INFO:werkzeug:127.0.0.1 - - [01/Mar/2025 16:27:28] \"POST /estimate HTTP/1.1\" 200 -\n",
            "INFO:werkzeug:127.0.0.1 - - [01/Mar/2025 16:27:30] \"POST /estimate HTTP/1.1\" 200 -\n"
          ]
        }
      ],
      "source": [
        "from flask import Flask, request, jsonify\n",
        "from flask_cors import CORS\n",
        "from pyngrok import ngrok\n",
        "\n",
        "# Initialize Flask app\n",
        "app = Flask(__name__)\n",
        "CORS(app)  # Enable CORS for frontend communication\n",
        "\n",
        "# Function to estimate shipping cost\n",
        "def estimate_shipping_cost(weight, distance, speed):\n",
        "    base_rate = 5  # Base rate in USD\n",
        "    cost = base_rate + (weight * 0.5) + (distance * 0.2)\n",
        "    if speed == \"express\":\n",
        "        cost *= 1.5\n",
        "    return round(cost, 2)\n",
        "\n",
        "# Function to select the best carrier based on cost\n",
        "def select_best_carrier(weight, distance):\n",
        "    carriers = {\n",
        "        \"FedEx\": estimate_shipping_cost(weight, distance, \"standard\"),\n",
        "        \"UPS\": estimate_shipping_cost(weight, distance, \"express\"),\n",
        "        \"DHL\": estimate_shipping_cost(weight, distance, \"standard\") * 0.9  # Discounted rate\n",
        "    }\n",
        "    best_carrier = min(carriers, key=carriers.get)\n",
        "    return best_carrier, carriers[best_carrier]\n",
        "\n",
        "# API Route\n",
        "@app.route('/estimate', methods=['POST'])\n",
        "def estimate():\n",
        "    data = request.json\n",
        "    weight = data.get('weight', 1)\n",
        "    distance = data.get('distance', 1)\n",
        "    speed = data.get('speed', 'standard')\n",
        "\n",
        "    cost = estimate_shipping_cost(weight, distance, speed)\n",
        "    best_carrier, carrier_cost = select_best_carrier(weight, distance)\n",
        "\n",
        "    return jsonify({\n",
        "        \"estimated_cost\": cost,\n",
        "        \"best_carrier\": best_carrier,\n",
        "        \"carrier_cost\": carrier_cost\n",
        "    })\n",
        "\n",
        "# Authenticate ngrok and start tunnel\n",
        "ngrok.set_auth_token(\"2tiWzGeCX09xOaf1EmVEAHbGxSx_vQbm3XsFcFLNHKo4eN1h\")  # Replace with your actual authtoken\n",
        "public_url = ngrok.connect(5000).public_url\n",
        "print(\"Public URL:\", public_url)  # Copy this URL for frontend\n",
        "\n",
        "# Start Flask app\n",
        "if __name__ == '__main__':\n",
        "    app.run()\n"
      ]
    },
    {
      "cell_type": "code",
      "source": [],
      "metadata": {
        "id": "lGRqDAD1jMMd"
      },
      "execution_count": null,
      "outputs": []
    }
  ],
  "metadata": {
    "colab": {
      "provenance": []
    },
    "kernelspec": {
      "display_name": "Python 3",
      "name": "python3"
    },
    "language_info": {
      "name": "python"
    }
  },
  "nbformat": 4,
  "nbformat_minor": 0
}